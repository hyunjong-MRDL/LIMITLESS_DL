{
 "cells": [
  {
   "cell_type": "code",
   "execution_count": 1,
   "metadata": {},
   "outputs": [],
   "source": [
    "import data, utils, processing, metrics\n",
    "from pydicom import dcmread"
   ]
  },
  {
   "cell_type": "code",
   "execution_count": 13,
   "metadata": {},
   "outputs": [
    {
     "name": "stdout",
     "output_type": "stream",
     "text": [
      "===Reference data===\n",
      "AIDR_Breast\n",
      "\n",
      "===Comparative data===\n",
      "AIDR_Onco\n",
      "\n"
     ]
    }
   ],
   "source": [
    "root = \"D:/Datasets/CT_Recon/Breast/\"\n",
    "\n",
    "print(\"===Reference data===\")\n",
    "recon_1 = \"AIDR\"\n",
    "seg_1 = \"Breast\"\n",
    "print(f\"{recon_1}_{seg_1}\")\n",
    "print()\n",
    "print(\"===Comparative data===\")\n",
    "recon_2 = \"AIDR\"\n",
    "seg_2 = \"Onco\"\n",
    "print(f\"{recon_2}_{seg_2}\")\n",
    "print()"
   ]
  },
  {
   "cell_type": "code",
   "execution_count": 14,
   "metadata": {},
   "outputs": [
    {
     "name": "stdout",
     "output_type": "stream",
     "text": [
      "D:/Datasets/CT_Recon/Breast/30031951/AIDR/Rt.Breast_AIDR/RS.30031951.241204_AIDR.dcm\n",
      "D:/Datasets/CT_Recon/Breast/30031951/AIDR/Onco_AIDR/RS.30031951.OncoStudioAutoSe.dcm\n",
      "WARNING: ROI index (4) has no Contour Sequence.\n",
      "\n",
      "WARNING: ROI index (5) has no Contour Sequence.\n",
      "\n",
      "14: SpinalCord\n",
      "13: SmallBowel\n",
      "12: ScarMarker\n",
      "6: Liver\n",
      "4: CTV(Tumor Bed)\n",
      "3: contralateral_rf\n",
      "2: Breast\n",
      "1: BODY\n",
      "18: Liver_AIDR\n",
      "17: BrachialP_R_AIDR\n",
      "16: BrachialP_L_AIDR\n",
      "21: Breasts_Rt_AIDR\n",
      "22: CTV_AIDR\n",
      "23: PTV_AIDR\n",
      "24: PTV_RF_AIDR\n",
      "25: Both lung_AIDR\n",
      "26: Stomach_AIDR\n",
      "27: Heart_AIDR\n",
      "\n",
      "29: External\n",
      "28: Bowels\n",
      "27: Lungs\n",
      "26: Breast_R\n",
      "25: Breast_L\n",
      "24: Spleen\n",
      "23: Liver_AIDR\n",
      "22: Kidney_R\n",
      "21: Kidney_L\n",
      "20: Gallbladder\n",
      "19: BrachialP_R_AIDR\n",
      "18: BrachialP_L_AIDR\n",
      "17: Heart1\n",
      "16: Sigmoid_Colon\n",
      "15: Bowel_Small\n",
      "14: Bowel_Large\n",
      "13: Cavity_Oral\n",
      "12: Trachea1\n",
      "11: SpinalCord\n",
      "10: CaudaEquina\n",
      "9: Parotid_R\n",
      "8: Parotid_L\n",
      "7: Glnd_Submand_R\n",
      "6: Glnd_Submand_L\n",
      "5: Esophagus1\n",
      "4: Stomach1\n",
      "3: Duodenum1\n",
      "2: Glnd_Thyroid\n",
      "1: Lung_R_rf\n",
      "0: Lung_L\n",
      "\n"
     ]
    }
   ],
   "source": [
    "RT_path_1 = data.get_RT_path(root, 2, recon_1, seg_1)  # ID1_Aice_manual\n",
    "RT_path_2 = data.get_RT_path(root, 2, recon_2, seg_2)  # ID1_AIDR_manual\n",
    "print(RT_path_1)\n",
    "print(RT_path_2)\n",
    "\n",
    "RT_structures_1 = data.get_ROI_structures(RT_path_1)\n",
    "RT_contours_1 = data.get_ROI_contours(RT_path_1)\n",
    "\n",
    "RT_structures_2 = data.get_ROI_structures(RT_path_2)\n",
    "RT_contours_2 = data.get_ROI_contours(RT_path_2)\n",
    "\n",
    "total_contours_1 = data.get_contour_data(RT_contours_1)\n",
    "total_contours_2 = data.get_contour_data(RT_contours_2)\n",
    "\n",
    "roi_names_1 = utils.get_ROI_names(RT_path_1)\n",
    "roi_names_2 = utils.get_ROI_names(RT_path_2)\n",
    "\n",
    "# matched_ROIs = utils.match_ROIs(roi_names_1, roi_names_2)\n",
    "utils.print_ROI_names(roi_names_1)\n",
    "utils.print_ROI_names(roi_names_2)"
   ]
  }
 ],
 "metadata": {
  "kernelspec": {
   "display_name": "torch",
   "language": "python",
   "name": "python3"
  },
  "language_info": {
   "codemirror_mode": {
    "name": "ipython",
    "version": 3
   },
   "file_extension": ".py",
   "mimetype": "text/x-python",
   "name": "python",
   "nbconvert_exporter": "python",
   "pygments_lexer": "ipython3",
   "version": "3.11.7"
  }
 },
 "nbformat": 4,
 "nbformat_minor": 2
}
